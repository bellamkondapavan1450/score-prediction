{
 "metadata": {
  "language_info": {
   "codemirror_mode": {
    "name": "ipython",
    "version": 3
   },
   "file_extension": ".py",
   "mimetype": "text/x-python",
   "name": "python",
   "nbconvert_exporter": "python",
   "pygments_lexer": "ipython3",
   "version": "3.7.6"
  },
  "orig_nbformat": 2,
  "kernelspec": {
   "name": "python376jvsc74a57bd064ec79e918612f262ef10ac6c940e40424af9326de39d7110414449796d9f652",
   "display_name": "Python 3.7.6 64-bit (conda)"
  }
 },
 "nbformat": 4,
 "nbformat_minor": 2,
 "cells": [
  {
   "cell_type": "code",
   "execution_count": 5,
   "metadata": {},
   "outputs": [],
   "source": [
    "import os\n",
    "import numpy as np\n",
    "import pandas as pd\n",
    "from shutil import copyfile\n",
    "# os.mkdir('./matches/')\n",
    "# alpha = 'a'\n",
    "# for i in range(0): \n",
    "#     os.mkdir('./images/' + alpha)\n",
    "#     alpha = chr(ord(alpha) + 1)\n",
    "\n",
    "rootdir = './data/'\n",
    "# k=1\n",
    "\n",
    "# for file in os.listdir(rootdir):\n",
    "#     letter = file[0]\n",
    "#     os.mkdir('./matches/' + str(k))\n",
    "#     copyfile(rootdir+file, './matches/' + str(k)+'/'+str(k))\n",
    "#     k+=1\n"
   ]
  },
  {
   "cell_type": "code",
   "execution_count": 6,
   "metadata": {},
   "outputs": [],
   "source": [
    "l=1\n",
    "scores=np.zeros(50,dtype=int)\n",
    "groundsdata = []\n",
    "teamwisescores=np.zeros(20,dtype=int)\n",
    "teams=[]\n",
    "def firstinningscore(balls,scorebat,scoreextras):\n",
    "    fscore = 0\n",
    "    length = balls.shape[0]\n",
    "    for i in range(200):\n",
    "        if(balls[i]<balls[i+1]):\n",
    "            fscore += (scorebat[i]+ scoreextras[i])\n",
    "        else:\n",
    "            fscore += (scorebat[i]+ scoreextras[i])\n",
    "            return fscore\n",
    "\n",
    "for file in os.listdir(rootdir):\n",
    "    df= pd.read_csv('./matches/'+str(l)+'/'+str(l))\n",
    "    # print(l)\n",
    "    if(l==507 or l==752):\n",
    "        l+=2\n",
    "    else:\n",
    "        l+=1\n",
    "    if(l==842):\n",
    "        break\n",
    "    venues = df['venue']\n",
    "    balls = df['ball']\n",
    "    battingteam = df['batting_team']\n",
    "    try:\n",
    "        teams.index(battingteam[0])\n",
    "    except:\n",
    "        teams.append(battingteam[0])        \n",
    "    scorebat = df['runs_off_bat']\n",
    "    scoreextras = df['extras']\n",
    "    v1 = venues.drop_duplicates(keep='first',inplace=False)    \n",
    "    score = firstinningscore(balls,scorebat,scoreextras)\n",
    "    teamindex = teams.index(battingteam[0])\n",
    "    tscore=teamwisescores[teamindex]\n",
    "    teamwisescores[teamindex]= int((tscore+score)/2)\n",
    "\n",
    "    try :\n",
    "        groundsdata.index(v1[0])\n",
    "        ind = groundsdata.index(v1[0])\n",
    "        gscore = scores[ind]\n",
    "        scores[ind]=int((gscore+score)/2)\n",
    "    except:\n",
    "        groundsdata.append(v1[0])\n",
    "        ind = groundsdata.index(v1[0])\n",
    "        gscore = scores[ind]\n",
    "        scores[ind]=int((gscore+score)/2)\n"
   ]
  },
  {
   "cell_type": "code",
   "execution_count": 8,
   "metadata": {},
   "outputs": [],
   "source": [
    "totaldataset={\n",
    "    \"venue\":[],\n",
    "    \"teamplaying\":[],\n",
    "    \"groundavgscore\":[],\n",
    "    \"teamavgscore\":[],\n",
    "    \"matchscore\":[]\n",
    "}\n",
    "l=1\n",
    "\n",
    "for file in os.listdir(rootdir):\n",
    "    df= pd.read_csv('./matches/'+str(l)+'/'+str(l))\n",
    "    # print(l)\n",
    "    if(l==507 or l==752):\n",
    "        l+=2\n",
    "    else:\n",
    "        l+=1\n",
    "    if(l==842):\n",
    "        break\n",
    "    venues = df['venue']\n",
    "    v1 = venues.drop_duplicates(keep='first',inplace=False)  \n",
    "    presentvenue = v1[0]\n",
    "    balls = df['ball']\n",
    "    scorebat = df['runs_off_bat']\n",
    "    scoreextras = df['extras']\n",
    "    score = firstinningscore(balls,scorebat,scoreextras)\n",
    "    battingteam = df['batting_team']\n",
    "    playingteam=battingteam[0]\n",
    "    groundindex= groundsdata.index(v1[0])\n",
    "    avgscorevenue= scores[groundindex]\n",
    "    teamindex = teams.index(playingteam)\n",
    "    teamavgscore = teamwisescores[teamindex]\n",
    "    totaldataset[\"venue\"].append(str(presentvenue))\n",
    "    totaldataset[\"teamplaying\"].append(str(playingteam))\n",
    "    totaldataset[\"groundavgscore\"].append(int(avgscorevenue))\n",
    "    totaldataset[\"teamavgscore\"].append(int(teamavgscore))\n",
    "    totaldataset[\"matchscore\"].append(int(score))\n",
    "    \n"
   ]
  },
  {
   "cell_type": "code",
   "execution_count": 9,
   "metadata": {},
   "outputs": [],
   "source": [
    "import pandas as pd \n",
    "from pandas import ExcelWriter\n",
    "from pandas import ExcelFile\n",
    "dataframe = pd.DataFrame(totaldataset)\n"
   ]
  },
  {
   "cell_type": "code",
   "execution_count": 10,
   "metadata": {},
   "outputs": [],
   "source": [
    "writer = ExcelWriter('personaldataset.xlsx')\n",
    "dataframe.to_excel(writer,'Sheet1',index=False)\n",
    "writer.save()\n",
    "dataframe.to_csv('personaldata.csv', index=False)"
   ]
  },
  {
   "cell_type": "code",
   "execution_count": 12,
   "metadata": {},
   "outputs": [],
   "source": [
    "from sklearn import linear_model\n",
    "\n",
    "df2 = pd.read_csv(\"./personaldata.csv\")\n",
    "\n",
    "X = df2[['groundavgscore', 'teamavgscore']].values.reshape(-1,2)\n",
    "y = df2['matchscore']\n",
    "\n",
    "regr = linear_model.LinearRegression()\n",
    "model = regr.fit(X, y)\n",
    "\n"
   ]
  },
  {
   "cell_type": "code",
   "execution_count": 54,
   "metadata": {},
   "outputs": [
    {
     "output_type": "stream",
     "name": "stdout",
     "text": [
      "The predicted score of first innings using linear is : 158\nwith runrate of : 7.9\nThe predicted score of first innings using linear is : [263]\nwith runrate of : [13.15]\n"
     ]
    }
   ],
   "source": [
    "venueinput = str(input(\"please give the venue\"))\n",
    "teaminput = str(input(\"please give the team playing \"))\n",
    "vindex = groundsdata.index(venueinput)\n",
    "vscore = scores[vindex]\n",
    "tindex = teams.index(teaminput)\n",
    "teamscore = teamwisescores[tindex]\n",
    "predictscore = int(model.predict([[vscore,teamscore]]))\n",
    "predictionlogistic = classifier.predict([[vscore,teamscore]])\n",
    "\n",
    "print(\"The predicted score of first innings using linear is :\",predictscore)\n",
    "print(\"with runrate of :\",(predictscore/20))\n",
    "print(\"The predicted score of first innings using linear is :\",predictionlogistic)\n",
    "print(\"with runrate of :\",(predictionlogistic/20))\n",
    "\n",
    "\n",
    "\n"
   ]
  },
  {
   "cell_type": "code",
   "execution_count": 90,
   "metadata": {},
   "outputs": [
    {
     "output_type": "execute_result",
     "data": {
      "text/plain": [
       "array([0.21789534, 0.00560069])"
      ]
     },
     "metadata": {},
     "execution_count": 90
    }
   ],
   "source": [
    "regr.coef_"
   ]
  },
  {
   "cell_type": "code",
   "execution_count": 14,
   "metadata": {},
   "outputs": [
    {
     "output_type": "stream",
     "name": "stderr",
     "text": [
      "C:\\Users\\prabh\\anaconda3\\lib\\site-packages\\sklearn\\linear_model\\_logistic.py:940: ConvergenceWarning: lbfgs failed to converge (status=1):\nSTOP: TOTAL NO. of ITERATIONS REACHED LIMIT.\n\nIncrease the number of iterations (max_iter) or scale the data as shown in:\n    https://scikit-learn.org/stable/modules/preprocessing.html\nPlease also refer to the documentation for alternative solver options:\n    https://scikit-learn.org/stable/modules/linear_model.html#logistic-regression\n  extra_warning_msg=_LOGISTIC_SOLVER_CONVERGENCE_MSG)\n"
     ]
    }
   ],
   "source": [
    "from sklearn.linear_model import LogisticRegression\n",
    "classifier = LogisticRegression(random_state = 0)\n",
    "classifier.fit(X, y)\n",
    "predictionlogistic = classifier.predict([[vscore,teamscore]])\n"
   ]
  },
  {
   "cell_type": "code",
   "execution_count": 44,
   "metadata": {},
   "outputs": [],
   "source": [
    "length = dataframe[dataframe.columns[0]].count()"
   ]
  },
  {
   "cell_type": "code",
   "execution_count": 36,
   "metadata": {},
   "outputs": [],
   "source": [
    "linear=[]\n",
    "logistic =[]\n",
    "for i in range(length):\n",
    "    groundavgscore = X[i][0]\n",
    "    teamscores = X[i][1]\n",
    "    predlin=int(model.predict([[groundavgscore,teamscores]])) \n",
    "    plog= int(classifier.predict([[groundavgscore,teamscores]]))\n",
    "    linear.append(predlin)\n",
    "    logistic.append(plog)\n",
    "\n"
   ]
  },
  {
   "cell_type": "code",
   "execution_count": 49,
   "metadata": {},
   "outputs": [
    {
     "output_type": "execute_result",
     "data": {
      "text/plain": [
       "['Sunrisers Hyderabad',\n",
       " 'Mumbai Indians',\n",
       " 'Gujarat Lions',\n",
       " 'Rising Pune Supergiant',\n",
       " 'Royal Challengers Bangalore',\n",
       " 'Kolkata Knight Riders',\n",
       " 'Delhi Daredevils',\n",
       " 'Kings XI Punjab',\n",
       " 'Rajasthan Royals',\n",
       " 'Chennai Super Kings',\n",
       " 'Delhi Capitals',\n",
       " 'Punjab Kings',\n",
       " 'Deccan Chargers',\n",
       " 'Kochi Tuskers Kerala',\n",
       " 'Pune Warriors',\n",
       " 'Rising Pune Supergiants']"
      ]
     },
     "metadata": {},
     "execution_count": 49
    }
   ],
   "source": [
    "teams"
   ]
  },
  {
   "cell_type": "code",
   "execution_count": 50,
   "metadata": {},
   "outputs": [
    {
     "output_type": "execute_result",
     "data": {
      "text/plain": [
       "['Rajiv Gandhi International Stadium, Uppal',\n",
       " 'Maharashtra Cricket Association Stadium',\n",
       " 'Saurashtra Cricket Association Stadium',\n",
       " 'Holkar Cricket Stadium',\n",
       " 'M.Chinnaswamy Stadium',\n",
       " 'Wankhede Stadium',\n",
       " 'Eden Gardens',\n",
       " 'M Chinnaswamy Stadium',\n",
       " 'Feroz Shah Kotla',\n",
       " 'Punjab Cricket Association IS Bindra Stadium, Mohali',\n",
       " 'Green Park',\n",
       " 'Punjab Cricket Association IS Bindra Stadium',\n",
       " 'Rajiv Gandhi International Stadium',\n",
       " 'MA Chidambaram Stadium',\n",
       " 'Sawai Mansingh Stadium',\n",
       " 'Arun Jaitley Stadium',\n",
       " 'Dr. Y.S. Rajasekhara Reddy ACA-VDCA Cricket Stadium',\n",
       " 'Sheikh Zayed Stadium',\n",
       " 'Dubai International Cricket Stadium',\n",
       " 'Sharjah Cricket Stadium',\n",
       " 'MA Chidambaram Stadium, Chepauk, Chennai',\n",
       " 'Wankhede Stadium, Mumbai',\n",
       " 'Narendra Modi Stadium, Ahmedabad',\n",
       " 'Arun Jaitley Stadium, Delhi',\n",
       " 'Punjab Cricket Association Stadium, Mohali',\n",
       " 'MA Chidambaram Stadium, Chepauk',\n",
       " 'Dr DY Patil Sports Academy',\n",
       " 'Newlands',\n",
       " \"St George's Park\",\n",
       " 'Kingsmead',\n",
       " 'SuperSport Park',\n",
       " 'Buffalo Park',\n",
       " 'New Wanderers Stadium',\n",
       " 'De Beers Diamond Oval',\n",
       " 'OUTsurance Oval',\n",
       " 'Brabourne Stadium',\n",
       " 'Sardar Patel Stadium, Motera',\n",
       " 'Barabati Stadium',\n",
       " 'Brabourne Stadium, Mumbai',\n",
       " 'Vidarbha Cricket Association Stadium, Jamtha',\n",
       " 'Himachal Pradesh Cricket Association Stadium',\n",
       " 'Nehru Stadium',\n",
       " 'Subrata Roy Sahara Stadium',\n",
       " 'Shaheed Veer Narayan Singh International Stadium',\n",
       " 'JSCA International Stadium Complex']"
      ]
     },
     "metadata": {},
     "execution_count": 50
    }
   ],
   "source": [
    "groundsdata"
   ]
  },
  {
   "cell_type": "code",
   "execution_count": null,
   "metadata": {},
   "outputs": [],
   "source": []
  }
 ]
}